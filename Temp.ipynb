{
 "cells": [
  {
   "cell_type": "code",
   "execution_count": 1,
   "id": "cd4cdac3-f2e7-4738-b773-03c8eaa32c9d",
   "metadata": {},
   "outputs": [],
   "source": [
    "import pandas as pd\n",
    "from sklearn.ensemble import RandomForestRegressor\n",
    "from sklearn.model_selection import train_test_split\n",
    "from sklearn.metrics import mean_squared_error\n",
    "import numpy as np"
   ]
  },
  {
   "cell_type": "code",
   "execution_count": 2,
   "id": "54736f98-b834-40e7-b205-bf60190817b2",
   "metadata": {},
   "outputs": [
    {
     "name": "stderr",
     "output_type": "stream",
     "text": [
      "/tmp/ipykernel_13746/2752030907.py:2: UserWarning: Parsing dates in %m/%d/%Y %H:%M format when dayfirst=True was specified. Pass `dayfirst=False` or specify a format to silence this warning.\n",
      "  data = pd.read_csv('NepseData.csv', parse_dates=['Time'], dayfirst=True)\n",
      "/tmp/ipykernel_13746/2752030907.py:8: FutureWarning: DataFrame.fillna with 'method' is deprecated and will raise in a future version. Use obj.ffill() or obj.bfill() instead.\n",
      "  data.fillna(method='ffill', inplace=True)\n",
      "/tmp/ipykernel_13746/2752030907.py:11: FutureWarning: errors='ignore' is deprecated and will raise in a future version. Use to_numeric without passing `errors` and catch exceptions explicitly instead\n",
      "  data = data.apply(pd.to_numeric, errors='ignore')\n"
     ]
    }
   ],
   "source": [
    "# Load the data\n",
    "data = pd.read_csv('NepseData.csv', parse_dates=['Time'], dayfirst=True)\n",
    "\n",
    "# Replace non-numeric values with NaN\n",
    "data.replace('#DIV/0!', np.nan, inplace=True)\n",
    "\n",
    "# Fill missing values using the previous value\n",
    "data.fillna(method='ffill', inplace=True)\n",
    "\n",
    "# Convert data to numeric where possible\n",
    "data = data.apply(pd.to_numeric, errors='ignore')\n",
    "\n",
    "# Drop rows with any remaining NaN values\n",
    "data.dropna(inplace=True)\n"
   ]
  },
  {
   "cell_type": "code",
   "execution_count": null,
   "id": "bd0ff0c5-4742-44d6-86e4-c88625d5a1a8",
   "metadata": {},
   "outputs": [],
   "source": [
    "# Select features and target\n",
    "features = ['MovingAverage', '10-Day EMA', 'Gain', 'Loss', 'Average Gain', 'Average Loss', 'RS', 'RelativeStrengthIndex', '12-Day EMA', '26-Day EMA', 'MACD', 'TrueRange', 'AverageTrueRange']\n",
    "target = 'NepseIndex'\n",
    "\n",
    "X = data[features]\n",
    "y = data[target]\n"
   ]
  },
  {
   "cell_type": "code",
   "execution_count": null,
   "id": "7c69c893-43b4-4b4a-b478-044233e77c56",
   "metadata": {},
   "outputs": [],
   "source": [
    "# Split the data into training and testing sets\n",
    "X_train, X_test, y_train, y_test = train_test_split(X, y, test_size=0.2, random_state=42)\n",
    "\n",
    "# Train a Random Forest model\n",
    "model = RandomForestRegressor(n_estimators=100, random_state=42)\n",
    "model.fit(X_train, y_train)\n",
    "\n"
   ]
  },
  {
   "cell_type": "code",
   "execution_count": null,
   "id": "9418a8e7-3010-409f-bea0-50234bf8a37d",
   "metadata": {},
   "outputs": [],
   "source": [
    "# Make predictions\n",
    "y_pred = model.predict(X_test)\n",
    "\n",
    "# Evaluate the model\n",
    "mse = mean_squared_error(y_test, y_pred)\n",
    "print(f'Mean Squared Error: {mse}')\n"
   ]
  },
  {
   "cell_type": "code",
   "execution_count": null,
   "id": "fa121dd4-e253-47b4-b8b9-d9feb19976aa",
   "metadata": {},
   "outputs": [],
   "source": []
  }
 ],
 "metadata": {
  "kernelspec": {
   "display_name": "Python 3 (ipykernel)",
   "language": "python",
   "name": "python3"
  },
  "language_info": {
   "codemirror_mode": {
    "name": "ipython",
    "version": 3
   },
   "file_extension": ".py",
   "mimetype": "text/x-python",
   "name": "python",
   "nbconvert_exporter": "python",
   "pygments_lexer": "ipython3",
   "version": "3.10.12"
  }
 },
 "nbformat": 4,
 "nbformat_minor": 5
}
